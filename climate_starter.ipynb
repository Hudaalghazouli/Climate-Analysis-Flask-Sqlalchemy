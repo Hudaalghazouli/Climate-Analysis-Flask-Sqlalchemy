{
 "cells": [
  {
   "cell_type": "code",
   "execution_count": 1,
   "metadata": {},
   "outputs": [],
   "source": [
    "%matplotlib inline\n",
    "from matplotlib import style\n",
    "style.use('fivethirtyeight')\n",
    "import matplotlib.pyplot as plt"
   ]
  },
  {
   "cell_type": "code",
   "execution_count": 2,
   "metadata": {},
   "outputs": [],
   "source": [
    "import numpy as np\n",
    "import pandas as pd\n",
    "import datetime as dt"
   ]
  },
  {
   "cell_type": "markdown",
   "metadata": {},
   "source": [
    "# Reflect Tables into SQLAlchemy ORM"
   ]
  },
  {
   "cell_type": "code",
   "execution_count": 3,
   "metadata": {},
   "outputs": [],
   "source": [
    "# Python SQL toolkit and Object Relational Mapper\n",
    "import sqlalchemy\n",
    "from sqlalchemy.ext.automap import automap_base\n",
    "from sqlalchemy.orm import Session\n",
    "from sqlalchemy import create_engine, func, inspect"
   ]
  },
  {
   "cell_type": "code",
   "execution_count": 99,
   "metadata": {},
   "outputs": [],
   "source": [
    "# create engine to hawaii.sqlite\n",
    "engine = create_engine(\"sqlite:///Resources/hawaii.sqlite\")"
   ]
  },
  {
   "cell_type": "code",
   "execution_count": 5,
   "metadata": {},
   "outputs": [],
   "source": [
    "# reflect an existing database into a new model\n",
    "\n",
    "# reflect the tables\n",
    "Base = automap_base()"
   ]
  },
  {
   "cell_type": "code",
   "execution_count": 6,
   "metadata": {},
   "outputs": [],
   "source": [
    "Base.prepare(engine, reflect=True)"
   ]
  },
  {
   "cell_type": "code",
   "execution_count": 7,
   "metadata": {},
   "outputs": [
    {
     "data": {
      "text/plain": [
       "['measurement', 'station']"
      ]
     },
     "execution_count": 7,
     "metadata": {},
     "output_type": "execute_result"
    }
   ],
   "source": [
    "# View all of the classes that automap found\n",
    "Base.classes.keys()"
   ]
  },
  {
   "cell_type": "code",
   "execution_count": 101,
   "metadata": {},
   "outputs": [
    {
     "data": {
      "text/plain": [
       "[(1, 'USC00519397', 'WAIKIKI 717.2, HI US', 21.2716, -157.8168, 3.0),\n",
       " (2, 'USC00513117', 'KANEOHE 838.1, HI US', 21.4234, -157.8015, 14.6),\n",
       " (3, 'USC00514830', 'KUALOA RANCH HEADQUARTERS 886.9, HI US', 21.5213, -157.8374, 7.0),\n",
       " (4, 'USC00517948', 'PEARL CITY, HI US', 21.3934, -157.9751, 11.9),\n",
       " (5, 'USC00518838', 'UPPER WAHIAWA 874.3, HI US', 21.4992, -158.0111, 306.6),\n",
       " (6, 'USC00519523', 'WAIMANALO EXPERIMENTAL FARM, HI US', 21.33556, -157.71139, 19.5),\n",
       " (7, 'USC00519281', 'WAIHEE 837.5, HI US', 21.45167, -157.84888999999998, 32.9),\n",
       " (8, 'USC00511918', 'HONOLULU OBSERVATORY 702.2, HI US', 21.3152, -157.9992, 0.9),\n",
       " (9, 'USC00516128', 'MANOA LYON ARBO 785.2, HI US', 21.3331, -157.8025, 152.4)]"
      ]
     },
     "execution_count": 101,
     "metadata": {},
     "output_type": "execute_result"
    }
   ],
   "source": [
    "engine.execute('SELECT * FROM station LIMIT 10').fetchall()"
   ]
  },
  {
   "cell_type": "code",
   "execution_count": 8,
   "metadata": {},
   "outputs": [],
   "source": [
    "# Save references to each table\n",
    "Measurement = Base.classes.measurement\n",
    "Station = Base.classes.station"
   ]
  },
  {
   "cell_type": "code",
   "execution_count": 9,
   "metadata": {},
   "outputs": [],
   "source": [
    "# Create our session (link) from Python to the DB\n",
    "session = Session(engine)"
   ]
  },
  {
   "cell_type": "code",
   "execution_count": 10,
   "metadata": {},
   "outputs": [
    {
     "data": {
      "text/plain": [
       "['measurement', 'station']"
      ]
     },
     "execution_count": 10,
     "metadata": {},
     "output_type": "execute_result"
    }
   ],
   "source": [
    "inspector = inspect(engine)\n",
    "inspector.get_table_names()"
   ]
  },
  {
   "cell_type": "code",
   "execution_count": 11,
   "metadata": {},
   "outputs": [
    {
     "name": "stdout",
     "output_type": "stream",
     "text": [
      "{'name': 'id', 'type': INTEGER(), 'nullable': False, 'default': None, 'autoincrement': 'auto', 'primary_key': 1}\n",
      "{'name': 'station', 'type': TEXT(), 'nullable': True, 'default': None, 'autoincrement': 'auto', 'primary_key': 0}\n",
      "{'name': 'date', 'type': TEXT(), 'nullable': True, 'default': None, 'autoincrement': 'auto', 'primary_key': 0}\n",
      "{'name': 'prcp', 'type': FLOAT(), 'nullable': True, 'default': None, 'autoincrement': 'auto', 'primary_key': 0}\n",
      "{'name': 'tobs', 'type': FLOAT(), 'nullable': True, 'default': None, 'autoincrement': 'auto', 'primary_key': 0}\n"
     ]
    }
   ],
   "source": [
    "columns = inspector.get_columns('measurement')\n",
    "for column in columns:\n",
    "    print(column)"
   ]
  },
  {
   "cell_type": "code",
   "execution_count": 12,
   "metadata": {},
   "outputs": [
    {
     "name": "stdout",
     "output_type": "stream",
     "text": [
      "{'name': 'id', 'type': INTEGER(), 'nullable': False, 'default': None, 'autoincrement': 'auto', 'primary_key': 1}\n",
      "{'name': 'station', 'type': TEXT(), 'nullable': True, 'default': None, 'autoincrement': 'auto', 'primary_key': 0}\n",
      "{'name': 'name', 'type': TEXT(), 'nullable': True, 'default': None, 'autoincrement': 'auto', 'primary_key': 0}\n",
      "{'name': 'latitude', 'type': FLOAT(), 'nullable': True, 'default': None, 'autoincrement': 'auto', 'primary_key': 0}\n",
      "{'name': 'longitude', 'type': FLOAT(), 'nullable': True, 'default': None, 'autoincrement': 'auto', 'primary_key': 0}\n",
      "{'name': 'elevation', 'type': FLOAT(), 'nullable': True, 'default': None, 'autoincrement': 'auto', 'primary_key': 0}\n"
     ]
    }
   ],
   "source": [
    "columns = inspector.get_columns('station')\n",
    "for column in columns:\n",
    "    print(column)"
   ]
  },
  {
   "cell_type": "markdown",
   "metadata": {},
   "source": [
    "# Exploratory Precipitation Analysis"
   ]
  },
  {
   "cell_type": "code",
   "execution_count": 38,
   "metadata": {},
   "outputs": [
    {
     "name": "stdout",
     "output_type": "stream",
     "text": [
      "('2017-08-23',)\n"
     ]
    }
   ],
   "source": [
    "lastDate = session.query(func.max(Measurement.date)).all()\n",
    "for i in lastDate:\n",
    "    print (i)"
   ]
  },
  {
   "cell_type": "code",
   "execution_count": 14,
   "metadata": {},
   "outputs": [
    {
     "data": {
      "text/plain": [
       "('2017-08-23',)"
      ]
     },
     "execution_count": 14,
     "metadata": {},
     "output_type": "execute_result"
    }
   ],
   "source": [
    "session.query(Measurement.date).order_by(Measurement.date.desc()).first()"
   ]
  },
  {
   "cell_type": "code",
   "execution_count": 15,
   "metadata": {},
   "outputs": [],
   "source": [
    "import datetime as dt"
   ]
  },
  {
   "cell_type": "code",
   "execution_count": 16,
   "metadata": {},
   "outputs": [
    {
     "name": "stdout",
     "output_type": "stream",
     "text": [
      "2016-08-23\n"
     ]
    }
   ],
   "source": [
    "year_ago = dt.date(2017, 8, 23) - dt.timedelta(days=365)\n",
    "print(year_ago)"
   ]
  },
  {
   "cell_type": "code",
   "execution_count": 17,
   "metadata": {},
   "outputs": [
    {
     "name": "stdout",
     "output_type": "stream",
     "text": [
      "('2016-08-23', 0.0)\n",
      "('2016-08-24', 0.08)\n",
      "('2016-08-25', 0.08)\n",
      "('2016-08-26', 0.0)\n",
      "('2016-08-27', 0.0)\n",
      "('2016-08-28', 0.01)\n",
      "('2016-08-29', 0.0)\n",
      "('2016-08-30', 0.0)\n",
      "('2016-08-31', 0.13)\n",
      "('2016-09-01', 0.0)\n",
      "('2016-09-02', 0.0)\n",
      "('2016-09-03', 0.0)\n",
      "('2016-09-04', 0.03)\n",
      "('2016-09-05', None)\n",
      "('2016-09-06', None)\n",
      "('2016-09-07', 0.05)\n",
      "('2016-09-08', 0.0)\n",
      "('2016-09-09', 0.03)\n",
      "('2016-09-10', 0.0)\n",
      "('2016-09-11', 0.05)\n",
      "('2016-09-12', 0.0)\n",
      "('2016-09-13', 0.02)\n",
      "('2016-09-14', 1.32)\n",
      "('2016-09-15', 0.42)\n",
      "('2016-09-16', 0.06)\n",
      "('2016-09-17', 0.05)\n",
      "('2016-09-18', 0.0)\n",
      "('2016-09-19', 0.0)\n",
      "('2016-09-20', 0.0)\n",
      "('2016-09-21', 0.0)\n",
      "('2016-09-22', 0.02)\n",
      "('2016-09-23', 0.0)\n",
      "('2016-09-24', 0.0)\n",
      "('2016-09-25', 0.0)\n",
      "('2016-09-26', 0.06)\n",
      "('2016-09-27', 0.02)\n",
      "('2016-09-28', 0.0)\n",
      "('2016-09-29', 0.0)\n",
      "('2016-09-30', 0.0)\n",
      "('2016-10-01', 0.0)\n",
      "('2016-10-02', 0.0)\n",
      "('2016-10-03', 0.0)\n",
      "('2016-10-04', 0.0)\n",
      "('2016-10-05', 0.0)\n",
      "('2016-10-06', 0.0)\n",
      "('2016-10-07', 0.0)\n",
      "('2016-10-08', 0.0)\n",
      "('2016-10-09', 0.0)\n",
      "('2016-10-10', 0.0)\n",
      "('2016-10-11', 0.0)\n",
      "('2016-10-12', 0.0)\n",
      "('2016-10-13', 0.0)\n",
      "('2016-10-14', 0.0)\n",
      "('2016-10-15', 0.0)\n",
      "('2016-10-16', 0.0)\n",
      "('2016-10-17', 0.01)\n",
      "('2016-10-18', 0.0)\n",
      "('2016-10-19', 0.0)\n",
      "('2016-10-20', 0.0)\n",
      "('2016-10-21', 0.05)\n",
      "('2016-10-22', 0.15)\n",
      "('2016-10-23', 0.01)\n",
      "('2016-10-24', 0.0)\n",
      "('2016-10-25', 0.03)\n",
      "('2016-10-26', 0.0)\n",
      "('2016-10-27', 0.0)\n",
      "('2016-10-28', 0.0)\n",
      "('2016-10-29', 0.0)\n",
      "('2016-10-30', 0.24)\n",
      "('2016-10-31', 0.03)\n",
      "('2016-11-01', 0.0)\n",
      "('2016-11-02', 0.0)\n",
      "('2016-11-03', 0.0)\n",
      "('2016-11-04', 0.0)\n",
      "('2016-11-05', 0.0)\n",
      "('2016-11-06', 0.0)\n",
      "('2016-11-07', 0.0)\n",
      "('2016-11-08', 0.07)\n",
      "('2016-11-09', 0.0)\n",
      "('2016-11-10', 0.0)\n",
      "('2016-11-11', 0.0)\n",
      "('2016-11-12', 0.0)\n",
      "('2016-11-13', 0.0)\n",
      "('2016-11-14', 0.0)\n",
      "('2016-11-15', 0.0)\n",
      "('2016-11-16', 0.0)\n",
      "('2016-11-17', 0.0)\n",
      "('2016-11-18', 0.0)\n",
      "('2016-11-19', 0.03)\n",
      "('2016-11-20', 0.05)\n",
      "('2016-11-21', 0.01)\n",
      "('2016-11-22', 0.13)\n",
      "('2016-11-23', 0.14)\n",
      "('2016-11-24', 0.05)\n",
      "('2016-11-25', 0.05)\n",
      "('2016-11-26', 0.05)\n",
      "('2016-11-27', 0.0)\n",
      "('2016-11-28', 0.01)\n",
      "('2016-11-29', 0.0)\n",
      "('2016-11-30', 0.14)\n",
      "('2016-12-01', 0.12)\n",
      "('2016-12-02', 0.03)\n",
      "('2016-12-03', 0.0)\n",
      "('2016-12-04', 0.03)\n",
      "('2016-12-05', 0.43)\n",
      "('2016-12-06', 0.02)\n",
      "('2016-12-07', 0.0)\n",
      "('2016-12-08', 0.03)\n",
      "('2016-12-09', 0.52)\n",
      "('2016-12-10', 0.05)\n",
      "('2016-12-11', 0.04)\n",
      "('2016-12-12', 0.01)\n",
      "('2016-12-13', 0.05)\n",
      "('2016-12-14', 0.03)\n",
      "('2016-12-15', 0.0)\n",
      "('2016-12-16', 0.0)\n",
      "('2016-12-17', 0.01)\n",
      "('2016-12-18', 0.13)\n",
      "('2016-12-19', 0.01)\n",
      "('2016-12-20', 0.0)\n",
      "('2016-12-21', 0.0)\n",
      "('2016-12-22', 0.01)\n",
      "('2016-12-23', 0.01)\n",
      "('2016-12-24', 0.01)\n",
      "('2016-12-25', 0.0)\n",
      "('2016-12-26', 0.02)\n",
      "('2016-12-27', 0.0)\n",
      "('2016-12-28', 0.02)\n",
      "('2016-12-29', 0.04)\n",
      "('2016-12-30', 0.12)\n",
      "('2016-12-31', 0.01)\n",
      "('2017-01-01', 0.0)\n",
      "('2017-01-02', 0.0)\n",
      "('2017-01-03', 0.0)\n",
      "('2017-01-04', 0.0)\n",
      "('2017-01-05', 0.0)\n",
      "('2017-01-06', 0.0)\n",
      "('2017-01-07', 0.0)\n",
      "('2017-01-08', 0.0)\n",
      "('2017-01-09', 0.0)\n",
      "('2017-01-10', 0.0)\n",
      "('2017-01-11', 0.0)\n",
      "('2017-01-12', 0.0)\n",
      "('2017-01-13', 0.0)\n",
      "('2017-01-14', 0.0)\n",
      "('2017-01-15', 0.0)\n",
      "('2017-01-16', 0.0)\n",
      "('2017-01-17', 0.0)\n",
      "('2017-01-18', 0.0)\n",
      "('2017-01-19', 0.0)\n",
      "('2017-01-20', 0.0)\n",
      "('2017-01-21', 0.0)\n",
      "('2017-01-22', 0.16)\n",
      "('2017-01-23', 0.0)\n",
      "('2017-01-24', 0.04)\n",
      "('2017-01-25', 0.03)\n",
      "('2017-01-26', 0.0)\n",
      "('2017-01-27', 0.0)\n",
      "('2017-01-28', 0.0)\n",
      "('2017-01-29', 0.18)\n",
      "('2017-01-30', 0.0)\n",
      "('2017-01-31', 0.0)\n",
      "('2017-02-01', 0.0)\n",
      "('2017-02-02', 0.0)\n",
      "('2017-02-03', 0.0)\n",
      "('2017-02-04', 0.0)\n",
      "('2017-02-05', 0.0)\n",
      "('2017-02-06', 0.0)\n",
      "('2017-02-07', 0.51)\n",
      "('2017-02-08', 0.0)\n",
      "('2017-02-09', 0.0)\n",
      "('2017-02-10', 0.0)\n",
      "('2017-02-11', 0.31)\n",
      "('2017-02-12', 2.62)\n",
      "('2017-02-13', 0.01)\n",
      "('2017-02-14', 0.0)\n",
      "('2017-02-15', 0.0)\n",
      "('2017-02-16', 0.07)\n",
      "('2017-02-17', 0.0)\n",
      "('2017-02-18', 0.0)\n",
      "('2017-02-19', 0.0)\n",
      "('2017-02-20', 0.0)\n",
      "('2017-02-21', 0.06)\n",
      "('2017-02-22', 0.06)\n",
      "('2017-02-23', 0.01)\n",
      "('2017-02-24', 0.0)\n",
      "('2017-02-25', 0.03)\n",
      "('2017-02-26', 0.0)\n",
      "('2017-02-27', 0.0)\n",
      "('2017-02-28', 0.0)\n",
      "('2017-03-01', 1.19)\n",
      "('2017-03-02', 0.73)\n",
      "('2017-03-03', 0.47)\n",
      "('2017-03-04', 0.0)\n",
      "('2017-03-05', 0.35)\n",
      "('2017-03-06', 0.0)\n",
      "('2017-03-07', 0.0)\n",
      "('2017-03-08', 0.0)\n",
      "('2017-03-09', 0.0)\n",
      "('2017-03-10', 0.0)\n",
      "('2017-03-11', 0.0)\n",
      "('2017-03-12', 0.0)\n",
      "('2017-03-13', 0.0)\n",
      "('2017-03-14', 0.0)\n",
      "('2017-03-15', 0.0)\n",
      "('2017-03-16', 0.0)\n",
      "('2017-03-17', 0.0)\n",
      "('2017-03-18', 0.0)\n",
      "('2017-03-19', 0.0)\n",
      "('2017-03-20', 0.0)\n",
      "('2017-03-21', 0.0)\n",
      "('2017-03-22', 0.0)\n",
      "('2017-03-23', 0.0)\n",
      "('2017-03-24', 0.02)\n",
      "('2017-03-25', 0.0)\n",
      "('2017-03-26', 0.0)\n",
      "('2017-03-27', 0.0)\n",
      "('2017-03-28', 0.0)\n",
      "('2017-03-29', 0.0)\n",
      "('2017-03-30', 0.0)\n",
      "('2017-03-31', 0.0)\n",
      "('2017-04-01', 0.0)\n",
      "('2017-04-02', 0.0)\n",
      "('2017-04-03', 0.0)\n",
      "('2017-04-04', 0.0)\n",
      "('2017-04-05', 0.0)\n",
      "('2017-04-06', 0.0)\n",
      "('2017-04-07', 0.0)\n",
      "('2017-04-08', 0.0)\n",
      "('2017-04-09', 0.0)\n",
      "('2017-04-10', 0.0)\n",
      "('2017-04-11', 0.0)\n",
      "('2017-04-12', 0.0)\n",
      "('2017-04-13', 0.0)\n",
      "('2017-04-14', 0.26)\n",
      "('2017-04-15', 0.01)\n",
      "('2017-04-16', 0.0)\n",
      "('2017-04-17', 0.02)\n",
      "('2017-04-18', 0.0)\n",
      "('2017-04-19', 0.02)\n",
      "('2017-04-20', 0.05)\n",
      "('2017-04-21', 0.23)\n",
      "('2017-04-22', 0.32)\n",
      "('2017-04-23', 0.03)\n",
      "('2017-04-24', 0.0)\n",
      "('2017-04-25', 0.0)\n",
      "('2017-04-26', 0.0)\n",
      "('2017-04-27', 0.0)\n",
      "('2017-04-28', 0.0)\n",
      "('2017-04-29', 0.12)\n",
      "('2017-04-30', 0.89)\n",
      "('2017-05-01', 0.26)\n",
      "('2017-05-02', 0.0)\n",
      "('2017-05-03', 0.0)\n",
      "('2017-05-04', 0.0)\n",
      "('2017-05-05', 0.0)\n",
      "('2017-05-06', 0.0)\n",
      "('2017-05-07', 0.0)\n",
      "('2017-05-08', 0.0)\n",
      "('2017-05-09', 1.62)\n",
      "('2017-05-10', 0.0)\n",
      "('2017-05-11', 0.01)\n",
      "('2017-05-12', 0.0)\n",
      "('2017-05-13', 0.0)\n",
      "('2017-05-14', 0.0)\n",
      "('2017-05-15', 0.05)\n",
      "('2017-05-16', 0.01)\n",
      "('2017-05-17', 0.0)\n",
      "('2017-05-18', 0.01)\n",
      "('2017-05-19', 0.0)\n",
      "('2017-05-20', 0.0)\n",
      "('2017-05-21', 0.0)\n",
      "('2017-05-22', 0.0)\n",
      "('2017-05-23', 0.08)\n",
      "('2017-05-24', 0.13)\n",
      "('2017-05-25', 0.15)\n",
      "('2017-05-26', 0.02)\n",
      "('2017-05-27', 0.01)\n",
      "('2017-05-28', 0.02)\n",
      "('2017-05-29', 0.0)\n",
      "('2017-05-30', 0.26)\n",
      "('2017-05-31', 0.02)\n",
      "('2017-06-01', 0.0)\n",
      "('2017-06-02', 0.0)\n",
      "('2017-06-03', 0.02)\n",
      "('2017-06-04', 0.0)\n",
      "('2017-06-05', 0.0)\n",
      "('2017-06-06', 0.0)\n",
      "('2017-06-07', 0.0)\n",
      "('2017-06-08', 0.0)\n",
      "('2017-06-09', 0.0)\n",
      "('2017-06-10', 0.04)\n",
      "('2017-06-11', 0.08)\n",
      "('2017-06-12', 0.02)\n",
      "('2017-06-13', 0.0)\n",
      "('2017-06-14', 0.0)\n",
      "('2017-06-15', 0.0)\n",
      "('2017-06-16', 0.0)\n",
      "('2017-06-17', 0.0)\n",
      "('2017-06-18', 0.05)\n",
      "('2017-06-19', 0.0)\n",
      "('2017-06-20', 0.02)\n",
      "('2017-06-21', 0.0)\n",
      "('2017-06-22', 0.0)\n",
      "('2017-06-23', 0.0)\n",
      "('2017-06-24', 0.06)\n",
      "('2017-06-25', 0.0)\n",
      "('2017-06-26', 0.0)\n",
      "('2017-06-27', 0.0)\n",
      "('2017-06-28', 0.0)\n",
      "('2017-06-29', 0.0)\n",
      "('2017-06-30', 0.08)\n",
      "('2017-07-01', 0.02)\n",
      "('2017-07-02', 0.02)\n",
      "('2017-07-03', 0.04)\n",
      "('2017-07-04', 0.04)\n",
      "('2017-07-05', 0.0)\n",
      "('2017-07-06', 0.0)\n",
      "('2017-07-07', 0.0)\n",
      "('2017-07-08', 0.0)\n",
      "('2017-07-09', 0.0)\n",
      "('2017-07-10', 0.0)\n",
      "('2017-07-11', 0.0)\n",
      "('2017-07-12', 0.0)\n",
      "('2017-07-13', 0.07)\n",
      "('2017-07-14', 0.02)\n",
      "('2017-07-15', 0.0)\n",
      "('2017-07-16', 0.02)\n",
      "('2017-07-17', 0.03)\n",
      "('2017-07-18', 0.05)\n",
      "('2017-07-19', 0.0)\n",
      "('2017-07-20', 0.03)\n",
      "('2017-07-21', 0.0)\n",
      "('2017-07-22', 0.03)\n",
      "('2017-07-23', 0.0)\n",
      "('2017-07-24', 0.05)\n",
      "('2017-07-25', 0.0)\n",
      "('2017-07-26', 0.0)\n",
      "('2017-07-27', 0.0)\n",
      "('2017-07-28', 0.0)\n",
      "('2017-07-29', 0.0)\n",
      "('2017-07-30', 0.0)\n",
      "('2017-07-31', 0.0)\n",
      "('2017-08-01', 0.02)\n",
      "('2017-08-02', 0.0)\n",
      "('2017-08-03', 0.0)\n",
      "('2017-08-04', 0.02)\n",
      "('2017-08-05', 0.0)\n",
      "('2017-08-06', 0.0)\n",
      "('2017-08-07', 0.0)\n",
      "('2017-08-08', 0.0)\n",
      "('2017-08-09', 0.0)\n",
      "('2017-08-10', 0.0)\n",
      "('2017-08-11', 0.0)\n",
      "('2017-08-12', 0.0)\n",
      "('2017-08-13', 0.0)\n",
      "('2017-08-14', 0.0)\n",
      "('2017-08-15', 0.02)\n",
      "('2017-08-16', 0.0)\n",
      "('2017-08-17', 0.0)\n",
      "('2017-08-18', 0.0)\n",
      "('2017-08-19', 0.0)\n",
      "('2017-08-20', 0.0)\n",
      "('2017-08-21', 0.0)\n",
      "('2017-08-22', 0.0)\n",
      "('2017-08-23', 0.0)\n"
     ]
    },
    {
     "name": "stderr",
     "output_type": "stream",
     "text": [
      "/var/folders/2w/fy2bjdfs7nz5_675nfk08_jh0000gp/T/ipykernel_53660/1942277614.py:2: SAWarning: implicitly coercing SELECT object to scalar subquery; please use the .scalar_subquery() method to produce a scalar subquery.\n",
      "  filter(Measurement.date >= year_ago).filter(Measurement.date <= lastDate).\\\n"
     ]
    }
   ],
   "source": [
    "dates = session.query(Measurement.date, Measurement.prcp).\\\n",
    "    filter(Measurement.date >= year_ago).filter(Measurement.date <= lastDate).\\\n",
    "    group_by(Measurement.date).\\\n",
    "    order_by(Measurement.date.asc()).all()\n",
    "for i in dates:\n",
    "    print (i)"
   ]
  },
  {
   "cell_type": "code",
   "execution_count": 18,
   "metadata": {},
   "outputs": [
    {
     "data": {
      "text/html": [
       "<div>\n",
       "<style scoped>\n",
       "    .dataframe tbody tr th:only-of-type {\n",
       "        vertical-align: middle;\n",
       "    }\n",
       "\n",
       "    .dataframe tbody tr th {\n",
       "        vertical-align: top;\n",
       "    }\n",
       "\n",
       "    .dataframe thead th {\n",
       "        text-align: right;\n",
       "    }\n",
       "</style>\n",
       "<table border=\"1\" class=\"dataframe\">\n",
       "  <thead>\n",
       "    <tr style=\"text-align: right;\">\n",
       "      <th></th>\n",
       "      <th>prcp</th>\n",
       "    </tr>\n",
       "    <tr>\n",
       "      <th>date</th>\n",
       "      <th></th>\n",
       "    </tr>\n",
       "  </thead>\n",
       "  <tbody>\n",
       "    <tr>\n",
       "      <th>2016-08-23</th>\n",
       "      <td>0.00</td>\n",
       "    </tr>\n",
       "    <tr>\n",
       "      <th>2016-08-24</th>\n",
       "      <td>0.08</td>\n",
       "    </tr>\n",
       "    <tr>\n",
       "      <th>2016-08-25</th>\n",
       "      <td>0.08</td>\n",
       "    </tr>\n",
       "    <tr>\n",
       "      <th>2016-08-26</th>\n",
       "      <td>0.00</td>\n",
       "    </tr>\n",
       "    <tr>\n",
       "      <th>2016-08-27</th>\n",
       "      <td>0.00</td>\n",
       "    </tr>\n",
       "    <tr>\n",
       "      <th>...</th>\n",
       "      <td>...</td>\n",
       "    </tr>\n",
       "    <tr>\n",
       "      <th>2017-08-19</th>\n",
       "      <td>0.00</td>\n",
       "    </tr>\n",
       "    <tr>\n",
       "      <th>2017-08-20</th>\n",
       "      <td>0.00</td>\n",
       "    </tr>\n",
       "    <tr>\n",
       "      <th>2017-08-21</th>\n",
       "      <td>0.00</td>\n",
       "    </tr>\n",
       "    <tr>\n",
       "      <th>2017-08-22</th>\n",
       "      <td>0.00</td>\n",
       "    </tr>\n",
       "    <tr>\n",
       "      <th>2017-08-23</th>\n",
       "      <td>0.00</td>\n",
       "    </tr>\n",
       "  </tbody>\n",
       "</table>\n",
       "<p>366 rows × 1 columns</p>\n",
       "</div>"
      ],
      "text/plain": [
       "            prcp\n",
       "date            \n",
       "2016-08-23  0.00\n",
       "2016-08-24  0.08\n",
       "2016-08-25  0.08\n",
       "2016-08-26  0.00\n",
       "2016-08-27  0.00\n",
       "...          ...\n",
       "2017-08-19  0.00\n",
       "2017-08-20  0.00\n",
       "2017-08-21  0.00\n",
       "2017-08-22  0.00\n",
       "2017-08-23  0.00\n",
       "\n",
       "[366 rows x 1 columns]"
      ]
     },
     "execution_count": 18,
     "metadata": {},
     "output_type": "execute_result"
    }
   ],
   "source": [
    "df = pd.DataFrame(dates, columns=['date', 'prcp'])\n",
    "df.set_index('date', inplace=True)\n",
    "df"
   ]
  },
  {
   "cell_type": "code",
   "execution_count": null,
   "metadata": {},
   "outputs": [],
   "source": [
    "df = pd.DataFrame(dates, columns=['date', 'prcp'])\n",
    "df.set_index('date', inplace=True)\n",
    "df.plot.bar(figsize=(20, 10))\n",
    "plt.show()"
   ]
  },
  {
   "cell_type": "code",
   "execution_count": null,
   "metadata": {},
   "outputs": [],
   "source": [
    "ypos = range(1, len(scores)+1)\n",
    "ax.barh(ypos, scores[::-1])\n",
    "ax.set_xlabel(\"score\")\n",
    "ax.set_ylabel(\"emoji\")\n",
    "ax.set_yticks(ypos)\n",
    "ax.set_yticklabels(emoji_id[::-1])\n",
    "ax.set_title(\"Emoji Scores\")\n",
    "fig.tight_layout()\n",
    "plt.show()"
   ]
  },
  {
   "cell_type": "code",
   "execution_count": 19,
   "metadata": {},
   "outputs": [
    {
     "data": {
      "text/html": [
       "<div>\n",
       "<style scoped>\n",
       "    .dataframe tbody tr th:only-of-type {\n",
       "        vertical-align: middle;\n",
       "    }\n",
       "\n",
       "    .dataframe tbody tr th {\n",
       "        vertical-align: top;\n",
       "    }\n",
       "\n",
       "    .dataframe thead th {\n",
       "        text-align: right;\n",
       "    }\n",
       "</style>\n",
       "<table border=\"1\" class=\"dataframe\">\n",
       "  <thead>\n",
       "    <tr style=\"text-align: right;\">\n",
       "      <th></th>\n",
       "      <th>prcp</th>\n",
       "    </tr>\n",
       "  </thead>\n",
       "  <tbody>\n",
       "    <tr>\n",
       "      <th>count</th>\n",
       "      <td>364.000000</td>\n",
       "    </tr>\n",
       "    <tr>\n",
       "      <th>mean</th>\n",
       "      <td>0.048709</td>\n",
       "    </tr>\n",
       "    <tr>\n",
       "      <th>std</th>\n",
       "      <td>0.204930</td>\n",
       "    </tr>\n",
       "    <tr>\n",
       "      <th>min</th>\n",
       "      <td>0.000000</td>\n",
       "    </tr>\n",
       "    <tr>\n",
       "      <th>25%</th>\n",
       "      <td>0.000000</td>\n",
       "    </tr>\n",
       "    <tr>\n",
       "      <th>50%</th>\n",
       "      <td>0.000000</td>\n",
       "    </tr>\n",
       "    <tr>\n",
       "      <th>75%</th>\n",
       "      <td>0.020000</td>\n",
       "    </tr>\n",
       "    <tr>\n",
       "      <th>max</th>\n",
       "      <td>2.620000</td>\n",
       "    </tr>\n",
       "  </tbody>\n",
       "</table>\n",
       "</div>"
      ],
      "text/plain": [
       "             prcp\n",
       "count  364.000000\n",
       "mean     0.048709\n",
       "std      0.204930\n",
       "min      0.000000\n",
       "25%      0.000000\n",
       "50%      0.000000\n",
       "75%      0.020000\n",
       "max      2.620000"
      ]
     },
     "execution_count": 19,
     "metadata": {},
     "output_type": "execute_result"
    }
   ],
   "source": [
    "df.describe()"
   ]
  },
  {
   "cell_type": "code",
   "execution_count": null,
   "metadata": {},
   "outputs": [],
   "source": [
    "# Design a query to retrieve the last 12 months of precipitation data and plot the results. \n",
    "# Starting from the most recent data point in the database. \n",
    "\n",
    "# Calculate the date one year from the last date in data set.\n",
    "\n",
    "\n",
    "# Perform a query to retrieve the data and precipitation scores\n",
    "\n",
    "\n",
    "# Save the query results as a Pandas DataFrame and set the index to the date column\n",
    "\n",
    "\n",
    "# Sort the dataframe by date\n",
    "\n",
    "\n",
    "# Use Pandas Plotting with Matplotlib to plot the data\n",
    "\n",
    "\n"
   ]
  },
  {
   "cell_type": "code",
   "execution_count": null,
   "metadata": {},
   "outputs": [],
   "source": [
    "# Use Pandas to calcualte the summary statistics for the precipitation data\n"
   ]
  },
  {
   "cell_type": "markdown",
   "metadata": {},
   "source": [
    "# Exploratory Station Analysis"
   ]
  },
  {
   "cell_type": "code",
   "execution_count": 50,
   "metadata": {},
   "outputs": [
    {
     "name": "stdout",
     "output_type": "stream",
     "text": [
      "9\n"
     ]
    }
   ],
   "source": [
    "# Design a query to calculate the total number stations in the dataset\n",
    "\n",
    "totalStationsNumber = session.query(Station).group_by(Station.station).count()\n",
    "print(totalStationsNumber)"
   ]
  },
  {
   "cell_type": "code",
   "execution_count": 94,
   "metadata": {},
   "outputs": [
    {
     "data": {
      "text/plain": [
       "19550"
      ]
     },
     "execution_count": 94,
     "metadata": {},
     "output_type": "execute_result"
    }
   ],
   "source": [
    "session.query(Measurement).distinct(Measurement.station).count()"
   ]
  },
  {
   "cell_type": "code",
   "execution_count": 97,
   "metadata": {},
   "outputs": [
    {
     "name": "stdout",
     "output_type": "stream",
     "text": [
      "('USC00519397',)\n",
      "('USC00513117',)\n",
      "('USC00514830',)\n",
      "('USC00517948',)\n",
      "('USC00518838',)\n",
      "('USC00519523',)\n",
      "('USC00519281',)\n",
      "('USC00511918',)\n",
      "('USC00516128',)\n"
     ]
    }
   ],
   "source": [
    "uniqueValues = session.query(Measurement.station).distinct()\n",
    "for value in uniqueValues:\n",
    "    print(value)"
   ]
  },
  {
   "cell_type": "code",
   "execution_count": 59,
   "metadata": {},
   "outputs": [
    {
     "name": "stdout",
     "output_type": "stream",
     "text": [
      "['USC00519397', 'USC00513117', 'USC00514830', 'USC00517948', 'USC00518838', 'USC00519523', 'USC00519281', 'USC00511918', 'USC00516128']\n"
     ]
    }
   ],
   "source": [
    "list1 = []\n",
    "totalStationsNumber = session.query(Measurement)\n",
    "for i in totalStationsNumber:\n",
    "    if i.station not in list1:\n",
    "        list1.append(i.station)\n",
    "print (list1)"
   ]
  },
  {
   "cell_type": "code",
   "execution_count": 86,
   "metadata": {},
   "outputs": [
    {
     "name": "stdout",
     "output_type": "stream",
     "text": [
      "'USC00519397': 2724, 'USC00513117': 2709, 'USC00514830': 2202, 'USC00517948': 1372, 'USC00518838': 511, 'USC00519523': 2669, 'USC00519281': 2772, 'USC00511918': 1979, 'USC00516128': 2612\n"
     ]
    }
   ],
   "source": [
    "station1 = session.query(Measurement).filter(Measurement.station == 'USC00519397').count()\n",
    "station2 = session.query(Measurement).filter(Measurement.station == 'USC00513117').count()\n",
    "station3 = session.query(Measurement).filter(Measurement.station == 'USC00514830').count()\n",
    "station4 = session.query(Measurement).filter(Measurement.station == 'USC00517948').count()\n",
    "station5 = session.query(Measurement).filter(Measurement.station == 'USC00518838').count()\n",
    "station6 = session.query(Measurement).filter(Measurement.station == 'USC00519523').count()\n",
    "station7 = session.query(Measurement).filter(Measurement.station == 'USC00519281').count()\n",
    "station8 = session.query(Measurement).filter(Measurement.station == 'USC00511918').count()\n",
    "station9 = session.query(Measurement).filter(Measurement.station == 'USC00516128').count()\n",
    "\n",
    "print(f\"'USC00519397': {station1}, 'USC00513117': {station2}, 'USC00514830': {station3}, 'USC00517948': {station4}, 'USC00518838': {station5}, 'USC00519523': {station6}, 'USC00519281': {station7}, 'USC00511918': {station8}, 'USC00516128': {station9}\")"
   ]
  },
  {
   "cell_type": "code",
   "execution_count": null,
   "metadata": {},
   "outputs": [],
   "source": [
    "# Design a query to find the most active stations (i.e. what stations have the most rows?)\n",
    "# List the stations and the counts in descending order.\n"
   ]
  },
  {
   "cell_type": "code",
   "execution_count": null,
   "metadata": {},
   "outputs": [],
   "source": []
  },
  {
   "cell_type": "code",
   "execution_count": null,
   "metadata": {},
   "outputs": [],
   "source": [
    "# Using the most active station id from the previous query, calculate the lowest, highest, and average temperature.\n"
   ]
  },
  {
   "cell_type": "code",
   "execution_count": null,
   "metadata": {},
   "outputs": [],
   "source": [
    "# Using the most active station id\n",
    "# Query the last 12 months of temperature observation data for this station and plot the results as a histogram\n"
   ]
  },
  {
   "cell_type": "markdown",
   "metadata": {},
   "source": [
    "# Close session"
   ]
  },
  {
   "cell_type": "code",
   "execution_count": null,
   "metadata": {},
   "outputs": [],
   "source": [
    "# Close Session\n",
    "session.close()"
   ]
  },
  {
   "cell_type": "code",
   "execution_count": null,
   "metadata": {},
   "outputs": [],
   "source": []
  }
 ],
 "metadata": {
  "anaconda-cloud": {},
  "kernel_info": {
   "name": "python3"
  },
  "kernelspec": {
   "display_name": "Python 3 (ipykernel)",
   "language": "python",
   "name": "python3"
  },
  "language_info": {
   "codemirror_mode": {
    "name": "ipython",
    "version": 3
   },
   "file_extension": ".py",
   "mimetype": "text/x-python",
   "name": "python",
   "nbconvert_exporter": "python",
   "pygments_lexer": "ipython3",
   "version": "3.9.12"
  },
  "nteract": {
   "version": "0.12.3"
  },
  "varInspector": {
   "cols": {
    "lenName": 16,
    "lenType": 16,
    "lenVar": 40
   },
   "kernels_config": {
    "python": {
     "delete_cmd_postfix": "",
     "delete_cmd_prefix": "del ",
     "library": "var_list.py",
     "varRefreshCmd": "print(var_dic_list())"
    },
    "r": {
     "delete_cmd_postfix": ") ",
     "delete_cmd_prefix": "rm(",
     "library": "var_list.r",
     "varRefreshCmd": "cat(var_dic_list()) "
    }
   },
   "types_to_exclude": [
    "module",
    "function",
    "builtin_function_or_method",
    "instance",
    "_Feature"
   ],
   "window_display": false
  }
 },
 "nbformat": 4,
 "nbformat_minor": 2
}
